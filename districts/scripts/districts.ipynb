{
 "cells": [
  {
   "cell_type": "code",
   "execution_count": null,
   "id": "1fa47530",
   "metadata": {},
   "outputs": [],
   "source": [
    "# Import necessary libraries\n",
    "\n",
    "import psycopg2\n",
    "from sqlalchemy import create_engine, text\n",
    "import warnings\n",
    "warnings.filterwarnings(\"ignore\")\n",
    "import geopandas as gpd"
   ]
  },
  {
   "cell_type": "code",
   "execution_count": null,
   "id": "5d209029",
   "metadata": {},
   "outputs": [],
   "source": [
    "# Create a geo data frame from districts_enhanced.geojson (already clean data)\n",
    "\n",
    "gdf = gpd.read_file(\"districts_enhanced.geojson\")"
   ]
  },
  {
   "cell_type": "code",
   "execution_count": 16,
   "id": "912840e5",
   "metadata": {},
   "outputs": [],
   "source": [
    "# Create connection and engine to establish a connection\n",
    "\n",
    "with open(\"../_db_login/layered_db_url.txt\", \"r\") as file:\n",
    "    DATABASE_URL = file.read().strip()\n",
    "\n",
    "engine = create_engine(DATABASE_URL)"
   ]
  },
  {
   "cell_type": "code",
   "execution_count": null,
   "id": "ba83dd95",
   "metadata": {},
   "outputs": [],
   "source": [
    "# Set search path to avoid PostGIS issues during table creation/upload\n",
    "\n",
    "with engine.connect() as conn:\n",
    "    conn.execute(text('''SET search_path TO public, berlin_data;\n",
    "'''))\n",
    "    conn.commit()"
   ]
  },
  {
   "cell_type": "code",
   "execution_count": null,
   "id": "c24c3aac",
   "metadata": {},
   "outputs": [],
   "source": [
    "# Create empty districts table with constraints (PK)\n",
    "\n",
    "with engine.connect() as conn:\n",
    "    conn.execute(text('''\n",
    "    CREATE TABLE berlin_data.districts (\n",
    "    district_id VARCHAR(2) NOT NULL,\n",
    "    district VARCHAR(32) NOT NULL,\n",
    "    geometry geometry(MULTIPOLYGON, 4326) NOT NULL,\n",
    "    CONSTRAINT district_id_PK PRIMARY KEY (district_id)\n",
    "    );\n",
    "    '''))\n",
    "    conn.commit()"
   ]
  },
  {
   "cell_type": "code",
   "execution_count": null,
   "id": "f1bf7ab6",
   "metadata": {},
   "outputs": [],
   "source": [
    "# Use to_postgis (not to_sql) to preserve geometry type during upload\n",
    "\n",
    "from geoalchemy2 import Geometry\n",
    "\n",
    "gdf.to_postgis(\n",
    "    name='districts',\n",
    "    con=engine,\n",
    "    schema='berlin_data',\n",
    "    if_exists='append',  # 'append' if table exists and you want to add rows and keep table structure (constraints and so on...)\n",
    "    index=False          # 'replace' replaces the table structure (all constraints will be gone!)\n",
    ")"
   ]
  }
 ],
 "metadata": {
  "kernelspec": {
   "display_name": ".data",
   "language": "python",
   "name": "python3"
  },
  "language_info": {
   "codemirror_mode": {
    "name": "ipython",
    "version": 3
   },
   "file_extension": ".py",
   "mimetype": "text/x-python",
   "name": "python",
   "nbconvert_exporter": "python",
   "pygments_lexer": "ipython3",
   "version": "3.13.5"
  }
 },
 "nbformat": 4,
 "nbformat_minor": 5
}
